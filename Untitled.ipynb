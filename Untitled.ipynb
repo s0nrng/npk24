{
 "cells": [
  {
   "cell_type": "code",
   "execution_count": 27,
   "id": "b51c2b7e",
   "metadata": {},
   "outputs": [],
   "source": [
    "import numpy as np\n",
    "import matplotlib.pyplot as plt\n",
    "import torch\n",
    "import torch.nn as nn\n",
    "import torch.nn.init as init\n",
    "import torch.nn.functional as f\n",
    "from sklearn.model_selection import train_test_split"
   ]
  },
  {
   "cell_type": "code",
   "execution_count": 28,
   "id": "bd7e1e91",
   "metadata": {},
   "outputs": [],
   "source": [
    "X11 = np.load(\"data/X1.1.npy\", mmap_mode='r')\n",
    "X12 = np.load(\"data/X1.2.npy\", mmap_mode='r')\n",
    "X13 = np.load(\"data/X1.3.npy\", mmap_mode='r')\n",
    "\n",
    "C11 = np.load(\"data/C1.1.npy\", mmap_mode='r')\n",
    "C12 = np.load(\"data/C1.2.npy\", mmap_mode='r')\n",
    "C13 = np.load(\"data/C1.3.npy\", mmap_mode='r')\n",
    "\n",
    "N11 = np.load(\"data/N1.1.npy\", mmap_mode='r')\n",
    "N12 = np.load(\"data/N1.2.npy\", mmap_mode='r')\n",
    "N13 = np.load(\"data/N1.3.npy\", mmap_mode='r')\n",
    "\n",
    "P11 = np.load(\"data/P1.1.npy\", mmap_mode='r')\n",
    "P12 = np.load(\"data/P1.2.npy\", mmap_mode='r')\n",
    "P13 = np.load(\"data/P1.3.npy\", mmap_mode='r')\n",
    "\n",
    "K11 = np.load(\"data/K1.1.npy\", mmap_mode='r')\n",
    "K12 = np.load(\"data/K1.2.npy\", mmap_mode='r')\n",
    "K13 = np.load(\"data/K1.3.npy\", mmap_mode='r')\n",
    "\n",
    "X = np.concatenate([X11,X12,X13])\n",
    "C = np.concatenate([C11,C12,C13])\n",
    "N = np.concatenate([N11,N12,N13])\n",
    "P = np.concatenate([P11,P12,P13])\n",
    "K = np.concatenate([K11,K12,K13])"
   ]
  },
  {
   "cell_type": "code",
   "execution_count": 32,
   "id": "0f2e86ec",
   "metadata": {},
   "outputs": [],
   "source": [
    "class Model(nn.Module):\n",
    "    def __init__(self):\n",
    "        super(Model, self).__init__()\n",
    "        self.fc1 = nn.Linear(2151, 1000)\n",
    "        self.fc2 = nn.Linear(1000,1000)\n",
    "        self.fc3 = nn.Linear(1000,1000)\n",
    "        self.fc4 = nn.Linear(1000,1)\n",
    "    \n",
    "    def forward(self, data):\n",
    "        output = self.fc1(data)\n",
    "        output = self.fc2(output)\n",
    "        output = self.fc3(output)\n",
    "        return output"
   ]
  },
  {
   "cell_type": "code",
   "execution_count": 35,
   "id": "0a310e9a",
   "metadata": {},
   "outputs": [],
   "source": [
    "device='mps'\n",
    "X_train, X_test, y_train, y_test = train_test_split(X, C, test_size=0.1)\n",
    "X_train = torch.tensor(X_train, dtype=torch.float32).unsqueeze(dim=1).to(device)\n",
    "X_test = torch.tensor(X_test, dtype=torch.float32).unsqueeze(dim=1).to(device)\n",
    "y_train = torch.tensor(y_train, dtype=torch.float32).unsqueeze(dim=1).to(device)\n",
    "y_test = torch.tensor(y_test, dtype=torch.float32).unsqueeze(dim=1).to(device)"
   ]
  },
  {
   "cell_type": "code",
   "execution_count": 37,
   "id": "648fe289",
   "metadata": {},
   "outputs": [],
   "source": [
    "model = Model().to(device)\n",
    "loss_fun = nn.MSELoss()\n",
    "optim = torch.optim.Adam(model.parameters(), lr=0.000001)"
   ]
  },
  {
   "cell_type": "code",
   "execution_count": null,
   "id": "db94822e",
   "metadata": {},
   "outputs": [],
   "source": [
    "for e in range(1000):\n",
    "    optimizer.zero_grad()\n",
    "    output = model(X_train)\n",
    "    loss = loss_fun(output, y_train)\n",
    "    loss.backward()\n",
    "    optimizer.step()\n",
    "    if e % 100==0:\n",
    "        with torch.inference_mode():\n",
    "            output = model(X_test)\n",
    "            loss = loss_fun(output, y_test)\n",
    "            print(loss.item())"
   ]
  },
  {
   "cell_type": "code",
   "execution_count": null,
   "id": "b908f373",
   "metadata": {},
   "outputs": [],
   "source": []
  }
 ],
 "metadata": {
  "kernelspec": {
   "display_name": "Python 3 (ipykernel)",
   "language": "python",
   "name": "python3"
  },
  "language_info": {
   "codemirror_mode": {
    "name": "ipython",
    "version": 3
   },
   "file_extension": ".py",
   "mimetype": "text/x-python",
   "name": "python",
   "nbconvert_exporter": "python",
   "pygments_lexer": "ipython3",
   "version": "3.10.14"
  }
 },
 "nbformat": 4,
 "nbformat_minor": 5
}
